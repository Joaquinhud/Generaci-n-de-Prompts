{
 "cells": [
  {
   "cell_type": "markdown",
   "id": "a571f750",
   "metadata": {},
   "source": [
    "   # Proyecto Final: Idea Alquímica  \n",
    "\n",
    "\n",
    " **Autor:**  *Joaquín Hudson* \n",
    " \n",
    "**Curso:** *Inteligencia artificial: Generación de Prompts*  \n",
    "\n",
    "**Comisión:**  *67115*  \n",
    " "
   ]
  },
  {
   "cell_type": "markdown",
   "id": "7c6f7029",
   "metadata": {},
   "source": [
    "## **Presentación del Problema**\n",
    "\n",
    "El problema que abordaremos es el clasico problema comunicacional, La perdida de tiempo en comunicaciones largas que no nos generan productividad y los problemas de organización de que esto trae aparejado.\n",
    "\n",
    "La falta de organización en las tareas diarias y la dificultad para procesar cadenas largas de correos electrónicos afectan negativamente la productividad. Este proyecto busca abordar estos problemas utilizando modelos de inteligencia artificial que generan agendas personalizadas, listas de tareas y resúmenes claros de correos electrónicos.\n",
    "\n",
    "\n",
    "**Problemas que se trataran de revertir:**  \n",
    "- Pérdida de tiempo.  \n",
    "- Desorganización en flujos de trabajo.  \n",
    "- Baja eficiencia en la comunicación.  \n",
    "\n"
   ]
  },
  {
   "cell_type": "markdown",
   "id": "3d39d361",
   "metadata": {},
   "source": [
    "## **Desarrollo de la Propuesta de Solución**  \n",
    "\n",
    "\n",
    "Para poder gestionar este problema se Tomaran dos tipos de modelos de Ia generativaspor un lado el  Modelo Texto-Texto el cual servira para procesar y estructurar los textos de manera comprensible y sintetica y el modelo de Texto-Imagen que nos ayudara a generar recordatorios visuales.\n",
    "\n",
    "En principio el trabajo se basara en 3 Prompts:\n",
    "\n",
    "\n",
    "*1*-Un prompt encargado de organizando un plan diario el cual buscara optimizar las tareas tomando las mas urgentes primero y dandole una importancia dentro del día.\n",
    "\n",
    "\n",
    "*2-* Un prompt encargado de extraer la información principal de las cadenas de correos y explicarlo de una manera agil y sintetica. Tanto como fechas  acciones requeridas y puntos claves.\n",
    "\n",
    "\n",
    "*3-* Por ultimo un Prompt que se encarge de generar recordatorios visules de las situaciones más importantes.\n",
    "\n"
   ]
  },
  {
   "cell_type": "markdown",
   "id": "e8b14d5c",
   "metadata": {},
   "source": [
    "## **Justificación de la Viabilidad**  \n",
    "\n",
    "Este proyecto es viable porque:  \n",
    "1. Las herramientas de IA, como ChatGPT y DALL-E, permiten crear soluciones personalizadas rápidamente, los mismos seran .  \n",
    "2. La velocidad de generación de resumenes y agendas para la IA reducirian el tiempo usado para esto.\n",
    "3. Los recursos necesarios, como acceso a las APIs y tiempo de desarrollo, están disponibles y son manejables dentro del marco del curso.\n",
    "4. Los criterios para la generación de las imagenes.\n",
    "\n",
    "**Limitaciones:**  \n",
    "\n",
    "-Costos:El principal problema es el gasto de Tokens. por lo que deberiamos hacer un preprosesamiento de los mails ya que tienen elementos que no nos sirve para analizarlos. Tambien puede haber cadenas demasiado largas por lo que seria más conveniente usar para los resumene modelos de IA anteriores (o de menor costos Ej:GPT 3.5 en lugar de 4.0).\n",
    "\n",
    "- Dependencia de la calidad del diseño de los prompts y a veces de los trabajos que se deben analizar.\n"
   ]
  }
 ],
 "metadata": {
  "kernelspec": {
   "display_name": "Python (generacion-de-prompts)",
   "language": "python",
   "name": "generacion-de-prompts"
  },
  "language_info": {
   "codemirror_mode": {
    "name": "ipython",
    "version": 3
   },
   "file_extension": ".py",
   "mimetype": "text/x-python",
   "name": "python",
   "nbconvert_exporter": "python",
   "pygments_lexer": "ipython3",
   "version": "3.10.15"
  }
 },
 "nbformat": 4,
 "nbformat_minor": 5
}
