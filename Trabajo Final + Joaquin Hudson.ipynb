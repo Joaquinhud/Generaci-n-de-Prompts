{
 "cells": [
  {
   "cell_type": "markdown",
   "id": "caedcb3b",
   "metadata": {},
   "source": [
    "# Proyecto Final: Asistente IA para Seguros del Hogar\n",
    "\n",
    "**Autor:** *Joaquín Hudson*\n",
    "\n",
    "**Curso:** *Inteligencia artificial: Generación de Prompts*\n",
    "\n",
    "**Comisión:** *67115*\n"
   ]
  },
  {
   "cell_type": "markdown",
   "id": "dc795bac",
   "metadata": {},
   "source": [
    "## Introducción\n",
    "En este proyecto se desarrolla un asistente de inteligencia artificial que actúa como asesor de seguros del hogar. El asistente permite a los usuarios cargar su póliza de seguro y describir un evento. Con esta información, analiza la cobertura del seguro y proporciona una respuesta clara sobre los montos cubiertos.\n",
    "\n",
    "**Propósito:** Simplificar la interpretación de pólizas de seguro, mejorando la experiencia del usuario y reduciendo la incertidumbre en situaciones de siniestro.\n"
   ]
  },
  {
   "cell_type": "markdown",
   "id": "bedf9934",
   "metadata": {},
   "source": [
    "## Metodología\n",
    "El proyecto sigue los siguientes pasos:\n",
    "1. Carga de la póliza de seguro en formato PDF o texto plano (.txt).\n",
    "2. Preprocesamiento del texto para segmentar secciones relevantes.\n",
    "3. Análisis de consultas del usuario mediante técnicas de Fast Prompting con GPT-4.\n",
    "4. Respuesta clara y detallada sobre la cobertura.\n",
    "\n",
    "**Herramientas:**\n",
    "\n",
    "- Modelo GPT-4 para análisis de texto y generación de respuestas.\n",
    "- Modelo Dall-e para generacion de imagen de asistentes.\n",
    "- Python para preprocesamiento de datos.\n",
    "- Jupyter Notebook como entorno de desarrollo.\n",
    "\n",
    "**Tecnicas de fast rpompting:**\n",
    "\n",
    "- In-Context Lerning y asignacion de roles:Se da un contexto claro dando instrucciones explicitas, por un lado se entrega la poliza en la que debe bazar su respuesta y por el otro se le da una instruccion general en la que es un asistente experto en seguros del hogar. De esta manera se evitan respuestas no relacionadas con el tema y se da especificidad.\n",
    "\n",
    "\n",
    "- Prompting dirigido: Utiliza una estructura predefinida para la respuesta que guia resultados consistentespara garantizar que las respuestas sean claras y relevantes. Facilita la comprensión del usuario al organizar la información de manera lógica y estructurada. Además, garantiza consistencia en las respuestas, mejorando la experiencia de usuario."
   ]
  },
  {
   "cell_type": "markdown",
   "id": "2ff2752c",
   "metadata": {},
   "source": [
    "## Implementación"
   ]
  },
  {
   "cell_type": "code",
   "execution_count": 1,
   "id": "b515acc9",
   "metadata": {},
   "outputs": [],
   "source": [
    "import openai\n",
    "import os\n",
    "from PyPDF2 import PdfReader\n",
    "import requests\n",
    "from IPython.display import Image, display\n",
    "# Configuración de la API de OpenAI\n",
    "openai.api_key = \"Ingrear Apikey\""
   ]
  },
  {
   "cell_type": "markdown",
   "id": "42d1d04e",
   "metadata": {},
   "source": [
    "\n",
    "### Función para cargar y preprocesar la póliza de seguro desde PDF o texto plano\n"
   ]
  },
  {
   "cell_type": "code",
   "execution_count": 2,
   "id": "37ba45f4",
   "metadata": {},
   "outputs": [],
   "source": [
    "\n",
    "def cargar_poliza(ruta_archivo):\n",
    "    \"\"\"\n",
    "    Carga el texto de una póliza de seguro desde un archivo local o una URL.\n",
    "    \"\"\"\n",
    "    if ruta_archivo.startswith(\"http\"):  # Detecta si es una URL\n",
    "        response = requests.get(ruta_archivo)\n",
    "        if response.status_code == 200:\n",
    "            ruta_local = \"temp_poliza.pdf\"\n",
    "            with open(ruta_local, \"wb\") as f:\n",
    "                f.write(response.content)\n",
    "            ruta_archivo = ruta_local\n",
    "        else:\n",
    "            raise ValueError(\"No se pudo descargar el archivo. Verifica la URL.\")\n",
    "\n",
    "    if ruta_archivo.endswith('.pdf'):\n",
    "        lector = PdfReader(ruta_archivo)\n",
    "        texto = ''\n",
    "        for pagina in lector.pages:\n",
    "            texto += pagina.extract_text()\n",
    "    elif ruta_archivo.endswith('.txt'):\n",
    "        with open(ruta_archivo, 'r', encoding='utf-8') as file:\n",
    "            texto = file.read()\n",
    "    else:\n",
    "        raise ValueError(\"Formato de archivo no soportado. Usa PDF o TXT.\")\n",
    "    \n",
    "    return texto"
   ]
  },
  {
   "cell_type": "markdown",
   "id": "fcb21cf2",
   "metadata": {},
   "source": [
    "### Función para validar el texto de la póliza\n"
   ]
  },
  {
   "cell_type": "code",
   "execution_count": 3,
   "id": "a1b2c3d4",
   "metadata": {},
   "outputs": [],
   "source": [
    "def validar_poliza(poliza_texto):\n",
    "    \"\"\"\n",
    "    Valida si el texto cargado como póliza contiene contenido suficiente para analizar.\n",
    "    \"\"\"\n",
    "    if len(poliza_texto) < 500:\n",
    "        raise ValueError(\"La póliza cargada parece ser demasiado corta o estar incompleta.\")\n",
    "    if not any(keyword in poliza_texto.lower() for keyword in [\"cobertura\", \"exclusión\", \"siniestro\"]):\n",
    "        raise ValueError(\"El texto de la póliza no contiene palabras clave esperadas.\")\n",
    "    return True"
   ]
  },
  {
   "cell_type": "markdown",
   "id": "58589be3",
   "metadata": {},
   "source": [
    "### Función para analizar consultas del usuario\n"
   ]
  },
  {
   "cell_type": "code",
   "execution_count": 4,
   "id": "1dd37664",
   "metadata": {},
   "outputs": [],
   "source": [
    "def analizar_evento(poliza_texto):\n",
    "    \"\"\"\n",
    "    Interactúa con el usuario para capturar el evento, lo analiza y devuelve si está cubierto.\n",
    "    \"\"\"\n",
    "    imagen_url = generar_imagen_asistente()\n",
    "    # Validar el texto de la póliza\n",
    "    validar_poliza(poliza_texto)\n",
    "\n",
    "    # Limitar el texto relevante de la póliza\n",
    "    if len(poliza_texto) > 2000:\n",
    "        poliza_texto = poliza_texto[:2000] + \"...\"  # Limitar a los primeros 2000 caracteres\n",
    "\n",
    "    # Capturar el evento descrito por el usuario\n",
    "    evento = input(\"Describe qué te pasó: \")\n",
    "\n",
    "    # Mensajes para el modelo de chat\n",
    "    mensajes = [\n",
    "        {\n",
    "            \"role\": \"system\",\n",
    "            \"content\": (\n",
    "                \"Eres un asistente experto en seguros del hogar y con conocimientos de derecho argentino. Analiza eventos en función de una póliza proporcionada, \"\n",
    "                \"Es importante tener en cuenta en la respuesta las cláusulas especiales, exclusiones y pre-requisitos necesarios para cobertura. \"\n",
    "                \"Responde principalmente basándote en la póliza.\"\n",
    "            )\n",
    "        },\n",
    "        {\n",
    "            \"role\": \"user\",\n",
    "            \"content\": (\n",
    "                f\"Poliza del Seguro:\\n{poliza_texto}\\n\\n\"\n",
    "                f\"Evento Descrito:\\n{evento}\\n\\n\"\n",
    "                \"Responde de manera concisa:\\n\"\n",
    "                \"1. ¿El evento está cubierto según la póliza?\\n\"\n",
    "                \"2. Si está cubierto, lista los pre-requisitos necesarios para hacer efectiva la cobertura.\\n\"\n",
    "                \"3. Si no está cubierto, indica brevemente por qué no y señala las exclusiones relevantes.\\n\"\n",
    "            )\n",
    "        }\n",
    "    ]\n",
    "\n",
    "    # Llamada al modelo GPT en formato de chat\n",
    "    respuesta = openai.ChatCompletion.create(\n",
    "        model=\"gpt-4\",\n",
    "        messages=mensajes,\n",
    "        max_tokens=300  # Limitar la longitud de la respuesta\n",
    "    )\n",
    "\n",
    "    return respuesta.choices[0].message['content'].strip()"
   ]
  },
  {
   "cell_type": "markdown",
   "id": "68b4765c",
   "metadata": {},
   "source": [
    "# Generacion de Imagen"
   ]
  },
  {
   "cell_type": "code",
   "execution_count": 5,
   "id": "2cd11f8b",
   "metadata": {},
   "outputs": [],
   "source": [
    "def generar_imagen_asistente():\n",
    "    \"\"\"\n",
    "    Genera una imagen de un asistente de seguros utilizando la API de DALL-E.\n",
    "    \"\"\"\n",
    "    prompt = \"A friendly, professional insurance assistant with a confident smile, wearing formal business attire. The assistant is standing in a modern office with a laptop in front of them, ready to help a client with their home insurance needs.\"\n",
    "    \n",
    "    # Generación de imagen con DALL-E\n",
    "    respuesta = openai.Image.create(\n",
    "        prompt=prompt,\n",
    "        n=1,\n",
    "        size=\"1024x1024\"\n",
    "    )\n",
    "    \n",
    "    # URL de la imagen generada\n",
    "    url_imagen = respuesta['data'][0]['url']\n",
    "    print(f\"Imagen generada: {url_imagen}\")\n",
    "    return url_imagen\n",
    " # Mostramos la Imagen\n",
    "def mostrar_imagen(imagen_url):\n",
    "    \"\"\"\n",
    "    Muestra la imagen generada del asistente de seguros en el Jupyter Notebook.\n",
    "    \"\"\"\n",
    "    try:\n",
    "        display(Image(url=imagen_url, width=400, height=400))\n",
    "    except Exception as e:\n",
    "        print(f\"Error al mostrar la imagen: {e}\")\n",
    "        print(\"Puedes abrir la imagen directamente desde esta URL:\", imagen_url)\n"
   ]
  },
  {
   "cell_type": "markdown",
   "id": "860e9809",
   "metadata": {},
   "source": [
    "# Ejemplo de uso"
   ]
  },
  {
   "cell_type": "code",
   "execution_count": 6,
   "id": "3bd148c6",
   "metadata": {},
   "outputs": [
    {
     "name": "stdout",
     "output_type": "stream",
     "text": [
      "Imagen generada: https://oaidalleapiprodscus.blob.core.windows.net/private/org-tHP0VY7N0RnV2heDPlMaRuD1/user-ZyJkjnjk7gUcGUtXndRUTj32/img-BGlYvKx8jfp4bgWRb95sezIY.png?st=2024-12-20T22%3A04%3A56Z&se=2024-12-21T00%3A04%3A56Z&sp=r&sv=2024-08-04&sr=b&rscd=inline&rsct=image/png&skoid=d505667d-d6c1-4a0a-bac7-5c84a87759f8&sktid=a48cca56-e6da-484e-a814-9c849652bcb3&skt=2024-12-20T19%3A40%3A31Z&ske=2024-12-21T19%3A40%3A31Z&sks=b&skv=2024-08-04&sig=e9Rv84bVjbguP2/CkWNwkEE7DA/l7HxnmxgwSduxCkI%3D\n",
      "Describe qué te pasó: incendio de hogar\n",
      "Respuesta del asistente:\n",
      "1. Sí, el evento de incendio de hogar está cubierto según la póliza, siempre que no esté dentro de las exclusiones mencionadas.\n",
      "\n",
      "2. Para hacer efectiva la cobertura se necesitaría:\n",
      "\n",
      "   - Prueba de que el incendio ocurrió, sin haber sido causado por un vicio propio de la cosa (según la exclusión A)\n",
      "   - Evidencia de que el incendio no fue causado por terremoto, meteorito, maremoto o erupción volcánica, tornado, huracán o ciclón, inundación, alud o aluvión o granizo (según la exclusión B y C)\n",
      "   - Garantizar que el incendio no fue resultado de transmutaciones nucleares (según la exclusión D)\n",
      "   - Evitar que el incendio haya sido fruto de hechos de guerra civil o internacional, guerrilla, rebelión, motín o sedición (según la exclusión E)\n",
      "   - Certificar que el incendio no fue consecuencia de una requisa, incautación o confiscación de la autoridad o fuerza pública (según la exclusión F)\n",
      "   - Asegurar que la causa no fue la combustión espontánea, a menos que produzca fuego (según la exclusión B en incendios y\n"
     ]
    }
   ],
   "source": [
    "ruta_poliza = \"https://drive.google.com/uc?id=1uwNaJ2M2UM7Xua7_qHJal2BEW_eivQmz&export=download\"  \n",
    "poliza_texto = cargar_poliza(ruta_poliza)\n",
    "\n",
    "respuesta = analizar_evento(poliza_texto)\n",
    "\n",
    "print(\"Respuesta del asistente:\")\n",
    "print(respuesta)"
   ]
  },
  {
   "cell_type": "markdown",
   "id": "74048442",
   "metadata": {},
   "source": [
    "## Resultados y Conclusiones\n",
    "**Resultados:**\n",
    "1. El asistente fue capaz de identificar exclusiones importantes en eventos específicos, según el texto de la póliza.\n",
    "2. En casos de cobertura, proporcionó los pre-requisitos necesarios, mejorando la claridad para el usuario.\n",
    "3. Facilita el trabajo del productor de seguros al interpretar la poliza de manera agil respondiendo situaciones simples\n",
    "\n",
    "**Conclusiones:**\n",
    "- Este proyecto demuestra la viabilidad de usar IA para interpretar pólizas complejas, reduciendo la ambigüedad y ayudando a los usuarios a tomar decisiones informadas.\n",
    "- En el futuro, se podría incluir una integración más profunda con bases de datos de aseguradoras para automatizar el análisis de siniestros.\n",
    "- Tambien podria incorporar Prompting Iterativo para refinar el prompt en relacion a su uso.\n"
   ]
  }
 ],
 "metadata": {
  "kernelspec": {
   "display_name": "Python (generacion-de-prompts)",
   "language": "python",
   "name": "generacion-de-prompts"
  },
  "language_info": {
   "codemirror_mode": {
    "name": "ipython",
    "version": 3
   },
   "file_extension": ".py",
   "mimetype": "text/x-python",
   "name": "python",
   "nbconvert_exporter": "python",
   "pygments_lexer": "ipython3",
   "version": "3.10.15"
  }
 },
 "nbformat": 4,
 "nbformat_minor": 5
}
